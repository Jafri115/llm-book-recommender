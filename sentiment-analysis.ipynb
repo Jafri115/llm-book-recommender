{
 "cells": [
  {
   "cell_type": "markdown",
   "metadata": {},
   "source": [
    "# Sentiment Analysis for Book Recommendations\n",
    "\n",
    "In this notebook, we'll use Large Language Models (LLMs) to perform sentiment analysis on book descriptions. This will help us determine the emotional tone of books, which can be used as an additional feature in our recommendation system.\n",
    "\n",
    "## Why Sentiment Analysis?\n",
    "\n",
    "By extracting emotional content from book descriptions, we can:\n",
    "- Allow users to filter books based on their desired emotional tone\n",
    "- Someone looking for an exciting read might choose something suspenseful\n",
    "- Someone wanting to be cheered up might choose something joyful\n",
    "- Provide an additional degree of control for users in our recommender system\n",
    "\n",
    "## Our Approach: Fine-tuned Models\n",
    "\n",
    "We'll classify text into **7 discrete emotion categories**:\n",
    "1. **Anger**\n",
    "2. **Disgust** \n",
    "3. **Fear**\n",
    "4. **Joy**\n",
    "5. **Sadness**\n",
    "6. **Surprise**\n",
    "7. **Neutral** (for text without emotional content)\n",
    "\n",
    "### Fine-tuning vs Zero-shot Classification\n",
    "\n",
    "Instead of using zero-shot classification, we're using a **fine-tuned model**. Here's how fine-tuning works:\n",
    "\n",
    "1. Start with a pre-trained model (like RoBERTa) with its encoder layers intact\n",
    "2. Remove the original final layers (used for masked word prediction)\n",
    "3. Replace them with new layers designed for emotion classification\n",
    "4. Train on a labeled emotion dataset\n",
    "5. The model preserves its rich language understanding while learning emotion-specific patterns\n",
    "\n",
    "This gives us an LLM specifically designed for emotion classification tasks."
   ]
  },
  {
   "cell_type": "markdown",
   "metadata": {},
   "source": [
    "## Load the Data\n",
    "\n",
    "First, let's load our book dataset that contains the predicted categories from previous steps."
   ]
  },
  {
   "cell_type": "code",
   "execution_count": 3,
   "metadata": {},
   "outputs": [],
   "source": [
    "import pandas as pd\n",
    "\n",
    "books = pd.read_csv('books_with_categories.csv', encoding='utf-8')"
   ]
  },
  {
   "cell_type": "markdown",
   "metadata": {},
   "source": [
    "## Setting Up the Emotion Classification Model\n",
    "\n",
    "We're using a fine-tuned RoBERTa model from Hugging Face: `j-hartmann/emotion-english-distilroberta-base`\n",
    "\n",
    "**Model Details:**\n",
    "- Fine-tuned specifically for 6 basic emotions + neutral class\n",
    "- Evaluation accuracy: **66%** (significantly higher than random chance baseline of 14%)\n",
    "- Well-established model with good performance metrics\n",
    "\n",
    "**Configuration:**\n",
    "- `top_k=None`: Returns all emotion probabilities (not just the top prediction)\n",
    "- `device=0`: Uses GPU for faster processing (change to CPU if needed)"
   ]
  },
  {
   "cell_type": "code",
   "execution_count": 4,
   "metadata": {},
   "outputs": [
    {
     "name": "stderr",
     "output_type": "stream",
     "text": [
      "Device set to use cuda:0\n"
     ]
    },
    {
     "data": {
      "text/plain": [
       "[[{'label': 'joy', 'score': 0.9771687984466553},\n",
       "  {'label': 'surprise', 'score': 0.008528691716492176},\n",
       "  {'label': 'neutral', 'score': 0.0057645998895168304},\n",
       "  {'label': 'anger', 'score': 0.004419785924255848},\n",
       "  {'label': 'sadness', 'score': 0.0020923952106386423},\n",
       "  {'label': 'disgust', 'score': 0.0016119939973577857},\n",
       "  {'label': 'fear', 'score': 0.0004138521908316761}]]"
      ]
     },
     "execution_count": 4,
     "metadata": {},
     "output_type": "execute_result"
    }
   ],
   "source": [
    "from transformers import pipeline\n",
    "\n",
    "classifier = pipeline(\"text-classification\",\n",
    "                      model=\"j-hartmann/emotion-english-distilroberta-base\",\n",
    "                      top_k=None,\n",
    "                      device=0)  # Use device=-1 for CPU\n",
    "\n",
    "# Test the classifier\n",
    "classifier(\"I love this!\")"
   ]
  },
  {
   "cell_type": "markdown",
   "metadata": {},
   "source": [
    "## Choosing the Right Granularity: Sentence vs. Whole Description\n",
    "\n",
    "We need to decide at what level to apply sentiment analysis:\n",
    "\n",
    "### Option 1: Whole Description\n",
    "- Analyze the entire book description as one piece\n",
    "- May lose nuanced emotional information\n",
    "\n",
    "### Option 2: Sentence-by-Sentence (Our Choice)\n",
    "- Split description into individual sentences\n",
    "- Analyze each sentence separately\n",
    "- Capture more variety and nuanced emotions\n",
    "- Take maximum probability for each emotion across all sentences\n",
    "\n",
    "Let's test both approaches to see the difference:"
   ]
  },
  {
   "cell_type": "code",
   "execution_count": 5,
   "metadata": {},
   "outputs": [
    {
     "data": {
      "text/plain": [
       "'A NOVEL THAT READERS and critics have been eagerly anticipating for over a decade, Gilead is an astonishingly imagined story of remarkable lives. John Ames is a preacher, the son of a preacher and the grandson (both maternal and paternal) of preachers. It’s 1956 in Gilead, Iowa, towards the end of the Reverend Ames’s life, and he is absorbed in recording his family’s story, a legacy for the young son he will never see grow up. Haunted by his grandfather’s presence, John tells of the rift between his grandfather and his father: the elder, an angry visionary who fought for the abolitionist cause, and his son, an ardent pacifist. He is troubled, too, by his prodigal namesake, Jack (John Ames) Boughton, his best friend’s lost son who returns to Gilead searching for forgiveness and redemption. Told in John Ames’s joyous, rambling voice that finds beauty, humour and truth in the smallest of life’s details, Gilead is a song of celebration and acceptance of the best and the worst the world has to offer. At its heart is a tale of the sacred bonds between fathers and sons, pitch-perfect in style and story, set to dazzle critics and readers alike.'"
      ]
     },
     "execution_count": 5,
     "metadata": {},
     "output_type": "execute_result"
    }
   ],
   "source": [
    "# Look at the first book description\n",
    "books[\"description\"][0]"
   ]
  },
  {
   "cell_type": "code",
   "execution_count": 6,
   "metadata": {},
   "outputs": [
    {
     "name": "stdout",
     "output_type": "stream",
     "text": [
      "=== WHOLE DESCRIPTION ANALYSIS ===\n",
      "Dominant emotion: fear (65.48%)\n",
      "\n",
      "This might miss nuanced emotional content in different sentences.\n"
     ]
    }
   ],
   "source": [
    "# Approach 1: Classify entire description\n",
    "print(\"=== WHOLE DESCRIPTION ANALYSIS ===\")\n",
    "whole_result = classifier(books[\"description\"][0])\n",
    "print(f\"Dominant emotion: {whole_result[0][0]['label']} ({whole_result[0][0]['score']:.2%})\")\n",
    "print(\"\\nThis might miss nuanced emotional content in different sentences.\")"
   ]
  },
  {
   "cell_type": "code",
   "execution_count": 7,
   "metadata": {},
   "outputs": [
    {
     "name": "stdout",
     "output_type": "stream",
     "text": [
      "=== SENTENCE-BY-SENTENCE ANALYSIS ===\n",
      "This captures much more variety:\n",
      "Sentence 1: surprise (72.96%)\n",
      "Sentence 2: neutral (44.94%)\n",
      "Sentence 3: neutral (64.62%)\n"
     ]
    }
   ],
   "source": [
    "# Approach 2: Classify by sentences\n",
    "print(\"=== SENTENCE-BY-SENTENCE ANALYSIS ===\")\n",
    "sentences_result = classifier(books[\"description\"][0].split(\".\"))\n",
    "print(\"This captures much more variety:\")\n",
    "for i, sentence_emotions in enumerate(sentences_result[:3]):  # Show first 3 sentences\n",
    "    top_emotion = max(sentence_emotions, key=lambda x: x['score'])\n",
    "    print(f\"Sentence {i+1}: {top_emotion['label']} ({top_emotion['score']:.2%})\")"
   ]
  },
  {
   "cell_type": "markdown",
   "metadata": {},
   "source": [
    "## Examining Individual Sentences\n",
    "\n",
    "Let's look at specific sentences to verify our classifier is working correctly:"
   ]
  },
  {
   "cell_type": "code",
   "execution_count": 8,
   "metadata": {},
   "outputs": [
    {
     "name": "stdout",
     "output_type": "stream",
     "text": [
      "=== SENTENCE ANALYSIS ===\n",
      "First sentence: 'A NOVEL THAT READERS and critics have been eagerly anticipating for over a decade, Gilead is an astonishingly imagined story of remarkable lives'\n",
      "Prediction: [{'label': 'surprise', 'score': 0.7296026349067688}, {'label': 'neutral', 'score': 0.14038565754890442}, {'label': 'fear', 'score': 0.0681622102856636}, {'label': 'joy', 'score': 0.04794244095683098}, {'label': 'anger', 'score': 0.009156351909041405}, {'label': 'disgust', 'score': 0.0026284761261194944}, {'label': 'sadness', 'score': 0.0021221614442765713}]\n",
      "\n",
      "Fourth sentence: ' Haunted by his grandfather’s presence, John tells of the rift between his grandfather and his father: the elder, an angry visionary who fought for the abolitionist cause, and his son, an ardent pacifist'\n",
      "Prediction: [{'label': 'fear', 'score': 0.928167998790741}, {'label': 'anger', 'score': 0.03219107538461685}, {'label': 'neutral', 'score': 0.012808704748749733}, {'label': 'sadness', 'score': 0.008756885305047035}, {'label': 'surprise', 'score': 0.008597911335527897}, {'label': 'disgust', 'score': 0.008431857451796532}, {'label': 'joy', 'score': 0.0010455825831741095}]\n"
     ]
    }
   ],
   "source": [
    "sentences = books[\"description\"][0].split(\".\")\n",
    "predictions = classifier(sentences)\n",
    "\n",
    "print(\"=== SENTENCE ANALYSIS ===\")\n",
    "print(f\"First sentence: '{sentences[0]}'\")\n",
    "print(f\"Prediction: {predictions[0]}\")\n",
    "print()\n",
    "print(f\"Fourth sentence: '{sentences[3]}'\")\n",
    "print(f\"Prediction: {predictions[3]}\")"
   ]
  },
  {
   "cell_type": "markdown",
   "metadata": {},
   "source": [
    "## Processing Challenge: Multiple Emotions per Book\n",
    "\n",
    "The sentence-by-sentence approach introduces complexity:\n",
    "- Each book now has multiple emotions associated with it\n",
    "- The classifier output is ordered by score (different order for each sentence)\n",
    "\n",
    "**Our Solution:**\n",
    "1. Create separate columns for each of the 7 emotion categories\n",
    "2. For each emotion, take the **highest probability** from across all sentences in the description\n",
    "3. This gives us a comprehensive emotion profile for each book\n",
    "\n",
    "### Data Processing Steps:\n",
    "1. Sort predictions by label (to ensure consistent ordering)\n",
    "2. Extract maximum score for each emotion across all sentences\n",
    "3. Create a structured dataframe with emotion columns"
   ]
  },
  {
   "cell_type": "code",
   "execution_count": 9,
   "metadata": {},
   "outputs": [
    {
     "name": "stdout",
     "output_type": "stream",
     "text": [
      "=== ORDERING CHALLENGE ===\n",
      "Raw predictions have different label orders:\n",
      "Sentence 1 order: ['surprise', 'neutral', 'fear', 'joy', 'anger', 'disgust', 'sadness']\n",
      "Sentence 2 order: ['neutral', 'disgust', 'joy', 'sadness', 'anger', 'surprise', 'fear']\n",
      "\n",
      "After sorting by label:\n",
      "Consistent order: ['anger', 'disgust', 'fear', 'joy', 'neutral', 'sadness', 'surprise']\n"
     ]
    }
   ],
   "source": [
    "# Show the ordering problem\n",
    "print(\"=== ORDERING CHALLENGE ===\")\n",
    "print(\"Raw predictions have different label orders:\")\n",
    "print(f\"Sentence 1 order: {[p['label'] for p in predictions[0]]}\")\n",
    "print(f\"Sentence 2 order: {[p['label'] for p in predictions[1]]}\")\n",
    "print()\n",
    "print(\"After sorting by label:\")\n",
    "sorted_pred = sorted(predictions[0], key=lambda x: x[\"label\"])\n",
    "print(f\"Consistent order: {[p['label'] for p in sorted_pred]}\")"
   ]
  },
  {
   "cell_type": "markdown",
   "metadata": {},
   "source": [
    "## Building the Emotion Extraction System\n",
    "\n",
    "Now we'll create the infrastructure to process all our book descriptions:"
   ]
  },
  {
   "cell_type": "code",
   "execution_count": 10,
   "metadata": {},
   "outputs": [],
   "source": [
    "import numpy as np\n",
    "\n",
    "# Define our emotion categories (alphabetical order for consistency)\n",
    "emotion_labels = [\"anger\", \"disgust\", \"fear\", \"joy\", \"neutral\", \"sadness\", \"surprise\"]\n",
    "\n",
    "# Initialize storage for results\n",
    "isbn = []  # To merge back with original dataframe\n",
    "emotion_scores = {label: [] for label in emotion_labels}  # Dictionary to become dataframe columns\n",
    "\n",
    "def calculate_max_emotion_scores(predictions):\n",
    "    \"\"\"\n",
    "    Extract maximum emotion scores from sentence-level predictions.\n",
    "    \n",
    "    Args:\n",
    "        predictions: List of predictions, one per sentence\n",
    "        \n",
    "    Returns:\n",
    "        Dictionary with maximum score for each emotion across all sentences\n",
    "    \"\"\"\n",
    "    # Initialize storage for this description\n",
    "    per_emotion_scores = {label: [] for label in emotion_labels}\n",
    "    \n",
    "    # Process each sentence\n",
    "    for prediction in predictions:\n",
    "        # Sort to ensure consistent emotion order\n",
    "        sorted_predictions = sorted(prediction, key=lambda x: x[\"label\"])\n",
    "        \n",
    "        # Extract score for each emotion\n",
    "        for index, label in enumerate(emotion_labels):\n",
    "            per_emotion_scores[label].append(sorted_predictions[index][\"score\"])\n",
    "    \n",
    "    # Return maximum score for each emotion\n",
    "    return {label: np.max(scores) for label, scores in per_emotion_scores.items()}"
   ]
  },
  {
   "cell_type": "markdown",
   "metadata": {},
   "source": [
    "## Testing Our Function\n",
    "\n",
    "Let's verify our emotion extraction function works correctly:"
   ]
  },
  {
   "cell_type": "code",
   "execution_count": 11,
   "metadata": {},
   "outputs": [
    {
     "name": "stdout",
     "output_type": "stream",
     "text": [
      "=== MAXIMUM EMOTION SCORES ===\n",
      "Anger: 0.064\n",
      "Disgust: 0.274\n",
      "Fear: 0.928\n",
      "Joy: 0.933\n",
      "Neutral: 0.646\n",
      "Sadness: 0.967\n",
      "Surprise: 0.730\n"
     ]
    }
   ],
   "source": [
    "# Test with the first book\n",
    "sentences = books[\"description\"][0].split(\".\")\n",
    "predictions = classifier(sentences)\n",
    "max_scores = calculate_max_emotion_scores(predictions)\n",
    "\n",
    "print(\"=== MAXIMUM EMOTION SCORES ===\")\n",
    "for emotion, score in max_scores.items():\n",
    "    print(f\"{emotion.capitalize()}: {score:.3f}\")"
   ]
  },
  {
   "cell_type": "markdown",
   "metadata": {},
   "source": [
    "## Processing All Books\n",
    "\n",
    "Now let's apply our emotion analysis to the entire dataset. This will take some time as we're processing over 5,000 book descriptions:\n",
    "\n",
    "**Process for each book:**\n",
    "1. Extract ISBN13 for merging later\n",
    "2. Split description into sentences\n",
    "3. Get emotion predictions for all sentences\n",
    "4. Calculate maximum scores for each emotion\n",
    "5. Store results in our data structures"
   ]
  },
  {
   "cell_type": "code",
   "execution_count": 13,
   "metadata": {},
   "outputs": [
    {
     "name": "stderr",
     "output_type": "stream",
     "text": [
      "Running classifier in batches: 100%|██████████| 766/766 [02:59<00:00,  4.26it/s]\n"
     ]
    }
   ],
   "source": [
    "from tqdm import tqdm\n",
    "\n",
    "# Prepare storage\n",
    "emotion_labels = [\"anger\", \"disgust\", \"fear\", \"joy\", \"neutral\", \"sadness\", \"surprise\"]\n",
    "isbn = []\n",
    "emotion_scores = {label: [] for label in emotion_labels}\n",
    "\n",
    "# Prepare all sentences with mapping to books\n",
    "all_sentences = []\n",
    "sentence_map = []\n",
    "\n",
    "for i, desc in enumerate(books[\"description\"]):\n",
    "    split_sentences = desc.split(\".\")  # Simple split, adjust as needed\n",
    "    all_sentences.extend(split_sentences)\n",
    "    sentence_map.extend([i] * len(split_sentences))  # Track which book each sentence belongs to\n",
    "\n",
    "# Run classifier in batches\n",
    "batch_size = 32  # Or tune depending on GPU memory\n",
    "all_predictions = []\n",
    "\n",
    "for i in tqdm(range(0, len(all_sentences), batch_size), desc=\"Running classifier in batches\"):\n",
    "    batch = all_sentences[i:i + batch_size]\n",
    "    preds = classifier(batch)\n",
    "    all_predictions.extend(preds)\n",
    "\n",
    "# Post-process to max scores per book\n",
    "from collections import defaultdict\n",
    "\n",
    "book_scores = [defaultdict(float) for _ in range(len(books))]\n",
    "\n",
    "for sentence_idx, preds in enumerate(all_predictions):\n",
    "    book_idx = sentence_map[sentence_idx]\n",
    "    for pred in preds:\n",
    "        label = pred['label'].lower()\n",
    "        score = pred['score']\n",
    "        book_scores[book_idx][label] = max(book_scores[book_idx][label], score)\n",
    "\n",
    "# Fill the emotion_scores\n",
    "for idx, scores in enumerate(book_scores):\n",
    "    isbn.append(books[\"isbn13\"][idx])\n",
    "    for label in emotion_labels:\n",
    "        emotion_scores[label].append(scores.get(label, 0.0))\n"
   ]
  },
  {
   "cell_type": "markdown",
   "metadata": {},
   "source": [
    "## Creating and Merging the Emotions DataFrame\n",
    "\n",
    "Convert our results into a pandas DataFrame and merge it back with our original book data:"
   ]
  },
  {
   "cell_type": "code",
   "execution_count": 14,
   "metadata": {},
   "outputs": [
    {
     "name": "stdout",
     "output_type": "stream",
     "text": [
      "=== EMOTIONS DATAFRAME ===\n",
      "Shape: (5197, 8)\n",
      "      anger   disgust      fear       joy   neutral   sadness  surprise  \\\n",
      "0  0.064134  0.273592  0.928168  0.932798  0.646216  0.967158  0.729603   \n",
      "1  0.612618  0.348285  0.942528  0.704422  0.887939  0.111690  0.252545   \n",
      "2  0.064134  0.104007  0.972321  0.767237  0.549476  0.111690  0.078766   \n",
      "3  0.351484  0.150722  0.360707  0.251881  0.732685  0.111690  0.078766   \n",
      "4  0.081413  0.184495  0.095043  0.040564  0.884389  0.475881  0.078766   \n",
      "\n",
      "          isbn13  \n",
      "0  9780002005883  \n",
      "1  9780002261982  \n",
      "2  9780006178736  \n",
      "3  9780006280897  \n",
      "4  9780006280934  \n"
     ]
    }
   ],
   "source": [
    "# Create emotions dataframe\n",
    "emotions_df = pd.DataFrame(emotion_scores)\n",
    "emotions_df[\"isbn13\"] = isbn\n",
    "\n",
    "print(\"=== EMOTIONS DATAFRAME ===\")\n",
    "print(f\"Shape: {emotions_df.shape}\")\n",
    "print(emotions_df.head())"
   ]
  },
  {
   "cell_type": "code",
   "execution_count": 15,
   "metadata": {},
   "outputs": [
    {
     "name": "stdout",
     "output_type": "stream",
     "text": [
      "=== MERGED DATAFRAME ===\n",
      "Shape: (5197, 21)\n",
      "\n",
      "New emotion columns:\n",
      "['anger', 'disgust', 'fear', 'joy', 'neutral', 'sadness', 'surprise']\n"
     ]
    }
   ],
   "source": [
    "# Merge with original books dataframe\n",
    "books = pd.merge(books, emotions_df, on=\"isbn13\")\n",
    "\n",
    "print(\"=== MERGED DATAFRAME ===\")\n",
    "print(f\"Shape: {books.shape}\")\n",
    "print(\"\\nNew emotion columns:\")\n",
    "print([col for col in books.columns if col in emotion_labels])"
   ]
  },
  {
   "cell_type": "markdown",
   "metadata": {},
   "source": [
    "## Examining the Results\n",
    "\n",
    "Let's look at the distribution of emotions across our book dataset:"
   ]
  },
  {
   "cell_type": "code",
   "execution_count": 16,
   "metadata": {},
   "outputs": [
    {
     "name": "stdout",
     "output_type": "stream",
     "text": [
      "=== EMOTION DISTRIBUTION STATISTICS ===\n",
      "             anger      disgust         fear          joy      neutral  \\\n",
      "count  5197.000000  5197.000000  5197.000000  5197.000000  5197.000000   \n",
      "mean      0.164808     0.200597     0.308601     0.280208     0.760011   \n",
      "std       0.218574     0.212761     0.342392     0.317908     0.204867   \n",
      "min       0.000606     0.000821     0.000442     0.000550     0.000981   \n",
      "25%       0.064134     0.104007     0.051363     0.040564     0.549476   \n",
      "50%       0.064134     0.104007     0.093588     0.087731     0.838376   \n",
      "75%       0.138384     0.187477     0.580464     0.498712     0.936846   \n",
      "max       0.989582     0.989417     0.995326     0.992068     0.974344   \n",
      "\n",
      "           sadness     surprise  \n",
      "count  5197.000000  5197.000000  \n",
      "mean      0.223608     0.174044  \n",
      "std       0.248027     0.189109  \n",
      "min       0.001251     0.000779  \n",
      "25%       0.111690     0.078766  \n",
      "50%       0.111690     0.078766  \n",
      "75%       0.177616     0.198874  \n",
      "max       0.989361     0.983455  \n",
      "\n",
      "=== KEY INSIGHTS ===\n",
      "- We have a good distribution across most emotions\n",
      "- Sadness shows quite high probabilities in many books\n",
      "- This gives us valuable variables for book filtering and recommendation\n"
     ]
    }
   ],
   "source": [
    "# Display emotion statistics\n",
    "print(\"=== EMOTION DISTRIBUTION STATISTICS ===\")\n",
    "emotion_stats = books[emotion_labels].describe()\n",
    "print(emotion_stats)\n",
    "\n",
    "print(\"\\n=== KEY INSIGHTS ===\")\n",
    "print(\"- We have a good distribution across most emotions\")\n",
    "print(\"- Sadness shows quite high probabilities in many books\")\n",
    "print(\"- This gives us valuable variables for book filtering and recommendation\")"
   ]
  },
  {
   "cell_type": "markdown",
   "metadata": {},
   "source": [
    "## Saving the Enhanced Dataset\n",
    "\n",
    "Save our enriched dataset with emotion features for use in the final recommendation dashboard:"
   ]
  },
  {
   "cell_type": "code",
   "execution_count": 19,
   "metadata": {},
   "outputs": [
    {
     "name": "stdout",
     "output_type": "stream",
     "text": [
      "Enhanced dataset saved as 'books_with_emotions.csv'\n",
      "Final dataset shape: (5197, 21)\n",
      "Emotion features added: ['anger', 'disgust', 'fear', 'joy', 'neutral', 'sadness', 'surprise']\n"
     ]
    }
   ],
   "source": [
    "books.to_csv(\"books_with_emotions.csv\", index=False)\n",
    "print(\"Enhanced dataset saved as 'books_with_emotions.csv'\")\n",
    "print(f\"Final dataset shape: {books.shape}\")\n",
    "print(f\"Emotion features added: {emotion_labels}\")"
   ]
  },
  {
   "cell_type": "markdown",
   "metadata": {},
   "source": [
    "## Summary\n",
    "\n",
    "We've successfully implemented sentiment analysis for our book recommendation system:\n",
    "\n",
    "1. **Fine-tuned Model**: Used a specialized emotion classification model (66% accuracy)\n",
    "2. **Granular Analysis**: Analyzed emotions at sentence level for better precision\n",
    "3. **Comprehensive Features**: Created 7 emotion columns for each book\n",
    "4. **Smart Aggregation**: Used maximum probability across sentences for each emotion\n",
    "5. **Enhanced Dataset**: Added emotion features to support advanced filtering\n",
    "\n",
    "This sentiment analysis capability showcases how LLMs can extract meaningful features from text data that wouldn't be available in traditional recommender systems!"
   ]
  },
  {
   "cell_type": "markdown",
   "metadata": {},
   "source": []
  }
 ],
 "metadata": {
  "kernelspec": {
   "display_name": ".venv",
   "language": "python",
   "name": "python3"
  },
  "language_info": {
   "codemirror_mode": {
    "name": "ipython",
    "version": 3
   },
   "file_extension": ".py",
   "mimetype": "text/x-python",
   "name": "python",
   "nbconvert_exporter": "python",
   "pygments_lexer": "ipython3",
   "version": "3.11.9"
  }
 },
 "nbformat": 4,
 "nbformat_minor": 4
}
